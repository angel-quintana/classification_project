{
 "cells": [
  {
   "cell_type": "markdown",
   "id": "3047599c",
   "metadata": {
    "heading_collapsed": true
   },
   "source": [
    "# Goal\n",
    "\n",
    "- Discover factors relating to customers terminating service with Telco\n",
    "- Use said factors to develop modeling resources to predict churn"
   ]
  },
  {
   "cell_type": "markdown",
   "id": "69086d46",
   "metadata": {},
   "source": [
    "# imports"
   ]
  },
  {
   "cell_type": "code",
   "execution_count": 77,
   "id": "a76f3747",
   "metadata": {
    "deletable": false,
    "editable": false
   },
   "outputs": [],
   "source": [
    "\n",
    "# My custom modules:\n",
    "import acquire as a\n",
    "import prepare as p\n",
    "\n",
    "# tabular manipulation\n",
    "import numpy as np\n",
    "import pandas as pd\n",
    "import matplotlib.pyplot as plt\n",
    "import seaborn as sns\n",
    "from scipy import stats\n",
    "\n",
    "# Modeling Imports:\n",
    "from sklearn.tree import DecisionTreeClassifier, export_text, plot_tree\n",
    "from sklearn.ensemble import RandomForestClassifier\n",
    "from sklearn.linear_model import LogisticRegression\n",
    "from sklearn.neighbors import KNeighborsClassifier\n",
    "\n",
    "#evaulation metrics\n",
    "from sklearn.metrics import classification_report, accuracy_score\n",
    "from sklearn.metrics import confusion_matrix\n"
   ]
  },
  {
   "cell_type": "markdown",
   "id": "f4874b4b",
   "metadata": {},
   "source": [
    "# Acquire\n"
   ]
  },
  {
   "cell_type": "markdown",
   "id": "e0c203f5",
   "metadata": {},
   "source": [
    "Data was extracted from sequel database using the following function from my imported acquire module\n",
    "\n",
    ">def get_telco_data()\n",
    "\n",
    "        - extracts raw data as a dataframe from server with the users env file and a sql query\n",
    "    \n",
    ">telco_df.info() \n",
    "\n",
    "        - 7043 rows for 7043 customers \n",
    "        - 24 columns worth of data for each customer\n",
    "        - numeric and non-numeric data available covering expenses, tenure, and customer churn"
   ]
  },
  {
   "cell_type": "markdown",
   "id": "a09a7693",
   "metadata": {},
   "source": [
    "# Prepare Actions\n",
    "The prepare module incorporates the following to clean data"
   ]
  },
  {
   "cell_type": "markdown",
   "id": "caba4f17",
   "metadata": {},
   "source": [
    "- prep_telco() makes following changes\n",
    "    - removed redundant columnss\n",
    "    - checked for nulls and blank space in data\n",
    "    - filled blank spaces of with 0.0 where necessary\n",
    "    - filling in 'None' for null values\n",
    " \n",
    "- encode_telco() makes following changes \n",
    "    - converted categorical columns to numerics\n",
    "    \n",
    "- splitting_data()\n",
    "    - divides data into 3 samples for exploration and model processing, stratifying on 'churn'\n",
    "\n",
    "- no outliers were found"
   ]
  },
  {
   "cell_type": "markdown",
   "id": "3b37a506",
   "metadata": {},
   "source": [
    "# Explore"
   ]
  },
  {
   "cell_type": "code",
   "execution_count": 79,
   "id": "8b09d6d3",
   "metadata": {
    "deletable": false,
    "editable": false
   },
   "outputs": [
    {
     "name": "stdout",
     "output_type": "stream",
     "text": [
      "this file exists, reading csv\n"
     ]
    },
    {
     "data": {
      "text/html": [
       "<div>\n",
       "<style scoped>\n",
       "    .dataframe tbody tr th:only-of-type {\n",
       "        vertical-align: middle;\n",
       "    }\n",
       "\n",
       "    .dataframe tbody tr th {\n",
       "        vertical-align: top;\n",
       "    }\n",
       "\n",
       "    .dataframe thead th {\n",
       "        text-align: right;\n",
       "    }\n",
       "</style>\n",
       "<table border=\"1\" class=\"dataframe\">\n",
       "  <thead>\n",
       "    <tr style=\"text-align: right;\">\n",
       "      <th></th>\n",
       "      <th>customer_id</th>\n",
       "      <th>gender</th>\n",
       "      <th>senior_citizen</th>\n",
       "      <th>partner</th>\n",
       "      <th>dependents</th>\n",
       "      <th>tenure</th>\n",
       "      <th>phone_service</th>\n",
       "      <th>multiple_lines</th>\n",
       "      <th>online_security</th>\n",
       "      <th>online_backup</th>\n",
       "      <th>...</th>\n",
       "      <th>tech_support</th>\n",
       "      <th>streaming_tv</th>\n",
       "      <th>streaming_movies</th>\n",
       "      <th>paperless_billing</th>\n",
       "      <th>monthly_charges</th>\n",
       "      <th>total_charges</th>\n",
       "      <th>churn</th>\n",
       "      <th>contract_type</th>\n",
       "      <th>internet_service_type</th>\n",
       "      <th>payment_type</th>\n",
       "    </tr>\n",
       "  </thead>\n",
       "  <tbody>\n",
       "    <tr>\n",
       "      <th>2865</th>\n",
       "      <td>4083-BFNYK</td>\n",
       "      <td>Female</td>\n",
       "      <td>1</td>\n",
       "      <td>Yes</td>\n",
       "      <td>No</td>\n",
       "      <td>38</td>\n",
       "      <td>Yes</td>\n",
       "      <td>Yes</td>\n",
       "      <td>Yes</td>\n",
       "      <td>Yes</td>\n",
       "      <td>...</td>\n",
       "      <td>No</td>\n",
       "      <td>No</td>\n",
       "      <td>Yes</td>\n",
       "      <td>No</td>\n",
       "      <td>95.00</td>\n",
       "      <td>3591.25</td>\n",
       "      <td>No</td>\n",
       "      <td>One year</td>\n",
       "      <td>Fiber optic</td>\n",
       "      <td>Credit card (automatic)</td>\n",
       "    </tr>\n",
       "    <tr>\n",
       "      <th>4107</th>\n",
       "      <td>5804-LEPIM</td>\n",
       "      <td>Female</td>\n",
       "      <td>1</td>\n",
       "      <td>No</td>\n",
       "      <td>No</td>\n",
       "      <td>2</td>\n",
       "      <td>Yes</td>\n",
       "      <td>No</td>\n",
       "      <td>No</td>\n",
       "      <td>No</td>\n",
       "      <td>...</td>\n",
       "      <td>No</td>\n",
       "      <td>No</td>\n",
       "      <td>No</td>\n",
       "      <td>Yes</td>\n",
       "      <td>70.35</td>\n",
       "      <td>139.05</td>\n",
       "      <td>Yes</td>\n",
       "      <td>Month-to-month</td>\n",
       "      <td>Fiber optic</td>\n",
       "      <td>Electronic check</td>\n",
       "    </tr>\n",
       "    <tr>\n",
       "      <th>3453</th>\n",
       "      <td>4895-TMWIR</td>\n",
       "      <td>Male</td>\n",
       "      <td>1</td>\n",
       "      <td>Yes</td>\n",
       "      <td>No</td>\n",
       "      <td>11</td>\n",
       "      <td>Yes</td>\n",
       "      <td>No</td>\n",
       "      <td>No internet service</td>\n",
       "      <td>No internet service</td>\n",
       "      <td>...</td>\n",
       "      <td>No internet service</td>\n",
       "      <td>No internet service</td>\n",
       "      <td>No internet service</td>\n",
       "      <td>No</td>\n",
       "      <td>19.95</td>\n",
       "      <td>214.75</td>\n",
       "      <td>Yes</td>\n",
       "      <td>Month-to-month</td>\n",
       "      <td>None</td>\n",
       "      <td>Mailed check</td>\n",
       "    </tr>\n",
       "    <tr>\n",
       "      <th>923</th>\n",
       "      <td>1342-JPNKI</td>\n",
       "      <td>Male</td>\n",
       "      <td>0</td>\n",
       "      <td>No</td>\n",
       "      <td>No</td>\n",
       "      <td>10</td>\n",
       "      <td>Yes</td>\n",
       "      <td>Yes</td>\n",
       "      <td>No</td>\n",
       "      <td>No</td>\n",
       "      <td>...</td>\n",
       "      <td>No</td>\n",
       "      <td>Yes</td>\n",
       "      <td>No</td>\n",
       "      <td>Yes</td>\n",
       "      <td>86.05</td>\n",
       "      <td>834.1</td>\n",
       "      <td>Yes</td>\n",
       "      <td>Month-to-month</td>\n",
       "      <td>Fiber optic</td>\n",
       "      <td>Bank transfer (automatic)</td>\n",
       "    </tr>\n",
       "    <tr>\n",
       "      <th>2370</th>\n",
       "      <td>3397-AVTKU</td>\n",
       "      <td>Male</td>\n",
       "      <td>0</td>\n",
       "      <td>No</td>\n",
       "      <td>No</td>\n",
       "      <td>43</td>\n",
       "      <td>Yes</td>\n",
       "      <td>No</td>\n",
       "      <td>No</td>\n",
       "      <td>Yes</td>\n",
       "      <td>...</td>\n",
       "      <td>No</td>\n",
       "      <td>No</td>\n",
       "      <td>Yes</td>\n",
       "      <td>Yes</td>\n",
       "      <td>60.00</td>\n",
       "      <td>2548.55</td>\n",
       "      <td>No</td>\n",
       "      <td>Two year</td>\n",
       "      <td>DSL</td>\n",
       "      <td>Electronic check</td>\n",
       "    </tr>\n",
       "  </tbody>\n",
       "</table>\n",
       "<p>5 rows × 21 columns</p>\n",
       "</div>"
      ],
      "text/plain": [
       "     customer_id  gender  senior_citizen partner dependents  tenure  \\\n",
       "2865  4083-BFNYK  Female               1     Yes         No      38   \n",
       "4107  5804-LEPIM  Female               1      No         No       2   \n",
       "3453  4895-TMWIR    Male               1     Yes         No      11   \n",
       "923   1342-JPNKI    Male               0      No         No      10   \n",
       "2370  3397-AVTKU    Male               0      No         No      43   \n",
       "\n",
       "     phone_service multiple_lines      online_security        online_backup  \\\n",
       "2865           Yes            Yes                  Yes                  Yes   \n",
       "4107           Yes             No                   No                   No   \n",
       "3453           Yes             No  No internet service  No internet service   \n",
       "923            Yes            Yes                   No                   No   \n",
       "2370           Yes             No                   No                  Yes   \n",
       "\n",
       "      ...         tech_support         streaming_tv     streaming_movies  \\\n",
       "2865  ...                   No                   No                  Yes   \n",
       "4107  ...                   No                   No                   No   \n",
       "3453  ...  No internet service  No internet service  No internet service   \n",
       "923   ...                   No                  Yes                   No   \n",
       "2370  ...                   No                   No                  Yes   \n",
       "\n",
       "     paperless_billing monthly_charges  total_charges churn   contract_type  \\\n",
       "2865                No           95.00        3591.25    No        One year   \n",
       "4107               Yes           70.35         139.05   Yes  Month-to-month   \n",
       "3453                No           19.95         214.75   Yes  Month-to-month   \n",
       "923                Yes           86.05          834.1   Yes  Month-to-month   \n",
       "2370               Yes           60.00        2548.55    No        Two year   \n",
       "\n",
       "     internet_service_type               payment_type  \n",
       "2865           Fiber optic    Credit card (automatic)  \n",
       "4107           Fiber optic           Electronic check  \n",
       "3453                  None               Mailed check  \n",
       "923            Fiber optic  Bank transfer (automatic)  \n",
       "2370                   DSL           Electronic check  \n",
       "\n",
       "[5 rows x 21 columns]"
      ]
     },
     "execution_count": 79,
     "metadata": {},
     "output_type": "execute_result"
    }
   ],
   "source": [
    "#brief review of data\n",
    "telco_prepped = p.prep_telco(a.get_telco_data()) #fetching clean data directly from raw data\n",
    "train, validate, test = p.splitting_data(telco_prepped, 'churn') #split data into train, val, and test\n",
    "train.head()"
   ]
  },
  {
   "cell_type": "markdown",
   "id": "1e6ea4a6",
   "metadata": {},
   "source": [
    "## Do longer contract types correlate to higher churn?"
   ]
  },
  {
   "cell_type": "code",
   "execution_count": 80,
   "id": "f2b47f3d",
   "metadata": {
    "deletable": false,
    "editable": false,
    "scrolled": false
   },
   "outputs": [
    {
     "data": {
      "image/png": "[encoded data removed]",
      "text/plain": [
       "<Figure size 640x480 with 1 Axes>"
      ]
     },
     "metadata": {},
     "output_type": "display_data"
    }
   ],
   "source": [
    "#comparing how many customers churned by contract type\n",
    "plt.show('Churn count for different Contract Types')"
   ]
  },
  {
   "cell_type": "markdown",
   "id": "3d1d7c44",
   "metadata": {},
   "source": [
    "- customers on one-year contracts seem to churn less then month-to-month customers, and two-year customers even less\n",
    "\n",
    "Let's run a chi squared to compare proportions, to have more confidence\n",
    "\n",
    "- using a confidence interval of 95%\n",
    "- and an alpha of 0.05 consequently\n",
    "\n",
    "$H_0$: \"Churn and contract_type are independent.\"\n",
    "\n",
    "$H_a$: \"There is a relationship between contract_type and churn.\""
   ]
  },
  {
   "cell_type": "code",
   "execution_count": 82,
   "id": "f358521f",
   "metadata": {
    "deletable": false,
    "editable": false
   },
   "outputs": [
    {
     "name": "stdout",
     "output_type": "stream",
     "text": [
      "p 8.298049251133243e-156\n",
      "chi-2 714.1745080997528\n"
     ]
    }
   ],
   "source": [
    "# Run chi-squared test\n",
    "alpha = 0.05\n",
    "observed = pd.crosstab(train.churn, train.contract_type)\n",
    "chi2, p, dof, expected = stats.chi2_contingency(observed)\n",
    "\n",
    "print(\"p\", p)\n",
    "print(\"chi-2\", chi2)"
   ]
  },
  {
   "cell_type": "markdown",
   "id": "e0f21b31",
   "metadata": {},
   "source": [
    "The p value is less than alpha, therefore we reject the null hypothesis that churn and contract_type are independent. We can assume there is a relationship between contract_type and churn, therefore I would suggest contract_type be used as a feature for model generation"
   ]
  },
  {
   "cell_type": "markdown",
   "id": "422c6bee",
   "metadata": {},
   "source": [
    "## Does monthly charge correlate to churn?"
   ]
  },
  {
   "cell_type": "code",
   "execution_count": 83,
   "id": "aecdac3b",
   "metadata": {
    "deletable": false,
    "editable": false,
    "scrolled": false
   },
   "outputs": [
    {
     "data": {
      "image/png": "[encoded data removed]",
      "text/plain": [
       "<Figure size 640x480 with 1 Axes>"
      ]
     },
     "metadata": {},
     "output_type": "display_data"
    }
   ],
   "source": [
    "sns.barplot(data = train, x= train.churn, y=train.monthly_charges);\n",
    "plt.show()"
   ]
  },
  {
   "cell_type": "markdown",
   "id": "6982a90b",
   "metadata": {},
   "source": [
    "- customers seem more likely to churn when monthly expenses are higher\n",
    "Let's run a Mann-Whitneyyu Test to compare proportions, to have more confidence\n",
    "\n",
    "- using a confidence interval of 95%\n",
    "- and an alpha of 0.05 consequently\n",
    "\n",
    "$H_0$: \"Churn and monthly_charges are independent.\"\n",
    "\n",
    "$H_a$: \"There is a relationship between monthly_charges and churn.\""
   ]
  },
  {
   "cell_type": "code",
   "execution_count": 84,
   "id": "45e06f1e",
   "metadata": {
    "deletable": false,
    "editable": false
   },
   "outputs": [
    {
     "name": "stdout",
     "output_type": "stream",
     "text": [
      "Mann-Whitney U test p-value: 9.83259830397179e-30\n"
     ]
    }
   ],
   "source": [
    "#Run Mann-Whitneyyu Test\n",
    "alpha = 0.05\n",
    "stat, p_value = stats.mannwhitneyu(train[train.churn == 'Yes'].monthly_charges, train[train.churn == 'No'].monthly_charges)\n",
    "\n",
    "print(\"Mann-Whitney U test p-value:\", p_value)"
   ]
  },
  {
   "cell_type": "markdown",
   "id": "231888d8",
   "metadata": {},
   "source": [
    "The p value is less than alpha, therefore we reject the null hypothesis that churn and monthly_charges are independent. We can assume there is a relationship between monthly_charges and churn, therefore I would suggest monthly_charges be used as a feature for model generation"
   ]
  },
  {
   "cell_type": "markdown",
   "id": "efa09614",
   "metadata": {},
   "source": [
    "## Do customers with phone service churn less?"
   ]
  },
  {
   "cell_type": "code",
   "execution_count": 71,
   "id": "d54f36b1",
   "metadata": {},
   "outputs": [
    {
     "data": {
      "text/plain": [
       "<Axes: xlabel='phone_service', ylabel='count'>"
      ]
     },
     "execution_count": 71,
     "metadata": {},
     "output_type": "execute_result"
    },
    {
     "data": {
      "image/png": "[encoded data removed]",
      "text/plain": [
       "<Figure size 640x480 with 1 Axes>"
      ]
     },
     "metadata": {},
     "output_type": "display_data"
    }
   ],
   "source": [
    "sns.countplot(data = train, x= train.phone_service, hue= train.churn)\n"
   ]
  },
  {
   "cell_type": "markdown",
   "id": "c07be253",
   "metadata": {},
   "source": [
    "- from the plot, the proportion between churn and not churn does not seem to change significantly whether the customer has phone service\n",
    "Let's run a Mann-Whitneyyu Test to compare proportions, to have more confidence\n",
    "\n",
    "- using a confidence interval of 95%\n",
    "- and an alpha of 0.05 consequently\n",
    "\n",
    "$H_0$: \"There is a relationship between phone_service and churn.\"\n",
    "\n",
    "$H_a$: \"Churn and phone_service are independent.\""
   ]
  },
  {
   "cell_type": "code",
   "execution_count": 89,
   "id": "ed2d3f71",
   "metadata": {},
   "outputs": [
    {
     "name": "stdout",
     "output_type": "stream",
     "text": [
      "fail to reject\n",
      "Mann-Whitney U test p-value: 0.5460166860258362\n"
     ]
    }
   ],
   "source": [
    "\n",
    "alpha = 0.05\n",
    "\n",
    "observed = pd.crosstab(train.churn, train.phone_service)\n",
    "chi2, p, dof, expected = stats.chi2_contingency(observed)\n",
    "if p < alpha:\n",
    "    print(\"Reject the null hypothesis that\")\n",
    "else:\n",
    "    print(\"fail to reject\")\n",
    "\n",
    "print(\"Mann-Whitney U test p-value:\", p)"
   ]
  },
  {
   "cell_type": "markdown",
   "id": "3e133459",
   "metadata": {},
   "source": [
    "We can conclude that there is no correlation between phone service and churn."
   ]
  },
  {
   "cell_type": "markdown",
   "id": "52cd39bb",
   "metadata": {},
   "source": [
    "## Does whether or not customers have internet service correlate with churn?"
   ]
  },
  {
   "cell_type": "code",
   "execution_count": 73,
   "id": "926b4a1c",
   "metadata": {
    "deletable": false,
    "editable": false,
    "scrolled": false
   },
   "outputs": [
    {
     "data": {
      "image/png": "[encoded data removed]",
      "text/plain": [
       "<Figure size 640x480 with 1 Axes>"
      ]
     },
     "metadata": {},
     "output_type": "display_data"
    }
   ],
   "source": [
    "#plotting churn counts for different internet service types\n",
    "\n",
    "plt.show('Churn count for different Internet Service Types')"
   ]
  },
  {
   "cell_type": "markdown",
   "id": "e15b0c8f",
   "metadata": {},
   "source": [
    "- The plot suggests customers without internet service are much less likely to churn.\n",
    "Let's run a chi squared to compare proportions, to have more confidence\n",
    "\n",
    "- using a confidence interval of 95%\n",
    "- and an alpha of 0.05 consequently\n",
    "\n",
    "$H_0$: \"Churn and internet_service_type are independent.\"\n",
    "\n",
    "$H_a$: \"There is a relationship between internet_service_type and churn.\""
   ]
  },
  {
   "cell_type": "markdown",
   "id": "5e7d892f",
   "metadata": {},
   "source": [
    "### Analyze (with stats)"
   ]
  },
  {
   "cell_type": "code",
   "execution_count": 90,
   "id": "80669f24",
   "metadata": {
    "deletable": false,
    "editable": false
   },
   "outputs": [
    {
     "name": "stdout",
     "output_type": "stream",
     "text": [
      "p 1.8061078882405112e-91\n",
      "chi-2 417.88813854093104\n"
     ]
    }
   ],
   "source": [
    "# Run chi-squared\n",
    "alpha = 0.05\n",
    "# Setup a crosstab of observed survival to pclass\n",
    "observed = pd.crosstab(train.churn, train.internet_service_type)\n",
    "chi2, p, dof, expected = stats.chi2_contingency(observed)\n",
    "\n",
    "print(\"p\", p)\n",
    "print(\"chi-2\", chi2)"
   ]
  },
  {
   "cell_type": "markdown",
   "id": "6d976635",
   "metadata": {},
   "source": [
    "The p-value is less than alpha, so we reject the null hypothesis that churn and internet_service_type are independent. Moving forward understanding the relationship, internet_service_type should be implemented as a feature for generating models."
   ]
  },
  {
   "cell_type": "markdown",
   "id": "9aee1d06",
   "metadata": {
    "heading_collapsed": true
   },
   "source": [
    "# Model"
   ]
  },
  {
   "cell_type": "code",
   "execution_count": null,
   "id": "dd9d0e61",
   "metadata": {
    "hidden": true
   },
   "outputs": [],
   "source": []
  }
 ],
 "metadata": {
  "kernelspec": {
   "display_name": "Python 3 (ipykernel)",
   "language": "python",
   "name": "python3"
  },
  "language_info": {
   "codemirror_mode": {
    "name": "ipython",
    "version": 3
   },
   "file_extension": ".py",
   "mimetype": "text/x-python",
   "name": "python",
   "nbconvert_exporter": "python",
   "pygments_lexer": "ipython3",
   "version": "3.11.5"
  }
 },
 "nbformat": 4,
 "nbformat_minor": 5
}
